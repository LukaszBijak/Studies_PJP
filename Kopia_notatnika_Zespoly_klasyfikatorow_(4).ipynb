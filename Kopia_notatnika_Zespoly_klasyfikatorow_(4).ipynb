{
  "nbformat": 4,
  "nbformat_minor": 0,
  "metadata": {
    "kernelspec": {
      "display_name": "Python 3",
      "language": "python",
      "name": "python3"
    },
    "language_info": {
      "codemirror_mode": {
        "name": "ipython",
        "version": 3
      },
      "file_extension": ".py",
      "mimetype": "text/x-python",
      "name": "python",
      "nbconvert_exporter": "python",
      "pygments_lexer": "ipython3",
      "version": "3.7.4"
    },
    "colab": {
      "name": "Kopia notatnika Zespoly_klasyfikatorow_(4).ipynb",
      "provenance": [],
      "collapsed_sections": [],
      "include_colab_link": true
    }
  },
  "cells": [
    {
      "cell_type": "markdown",
      "metadata": {
        "id": "view-in-github",
        "colab_type": "text"
      },
      "source": [
        "<a href=\"https://colab.research.google.com/github/LukaszBijak/Studies_PJP/blob/main/Kopia_notatnika_Zespoly_klasyfikatorow_(4).ipynb\" target=\"_parent\"><img src=\"https://colab.research.google.com/assets/colab-badge.svg\" alt=\"Open In Colab\"/></a>"
      ]
    },
    {
      "cell_type": "markdown",
      "metadata": {
        "id": "L0VRJfK2tPbB"
      },
      "source": [
        "Zespoły klasyfikatorów\n",
        "----"
      ]
    },
    {
      "cell_type": "code",
      "metadata": {
        "colab": {
          "base_uri": "https://localhost:8080/"
        },
        "id": "UPTbEd01tPbB",
        "outputId": "0cf707d5-c3d2-4fc9-f078-6cf66819df0b"
      },
      "source": [
        "!git clone https://github.com/matzim95/ML-datasets\n"
      ],
      "execution_count": null,
      "outputs": [
        {
          "output_type": "stream",
          "name": "stdout",
          "text": [
            "fatal: destination path 'ML-datasets' already exists and is not an empty directory.\n"
          ]
        }
      ]
    },
    {
      "cell_type": "code",
      "metadata": {
        "id": "lcI37isztPbC"
      },
      "source": [
        "import pandas as pd\n",
        "\n",
        "def load_dataset(filename, class_column, index_col=None):\n",
        "    dataset = pd.read_csv(f'ML-datasets/{filename}.csv', index_col=index_col)\n",
        "    dataset['class'] = dataset[class_column].astype('category').cat.codes\n",
        "    classes = dataset.pop(class_column).unique()\n",
        "    return dataset, classes\n",
        "\n",
        "def prepare_dataset(dataset_name):\n",
        "    params = {'iris': {'class_column': 'species', 'index_col': None},\n",
        "              'wine': {'class_column': 'Class', 'index_col': None},\n",
        "              'glass': {'class_column': 'Type', 'index_col': 'ID'}}\n",
        "    dataset, classes = load_dataset(dataset_name,\n",
        "                                    **params[dataset_name])\n",
        "    y = dataset.pop('class')\n",
        "    X = dataset\n",
        "    return X, y, classes"
      ],
      "execution_count": null,
      "outputs": []
    },
    {
      "cell_type": "code",
      "metadata": {
        "id": "fvA5rTh7tPbC"
      },
      "source": [
        "X, y, classes = prepare_dataset('glass')"
      ],
      "execution_count": null,
      "outputs": []
    },
    {
      "cell_type": "markdown",
      "metadata": {
        "id": "iW8lafbctPbC"
      },
      "source": [
        "Bagging\n",
        "---"
      ]
    },
    {
      "cell_type": "code",
      "source": [
        ""
      ],
      "metadata": {
        "id": "2HjtgaZ9SH9D"
      },
      "execution_count": null,
      "outputs": []
    },
    {
      "cell_type": "code",
      "metadata": {
        "id": "SWzOcRw1tPbD"
      },
      "source": [
        "from sklearn.ensemble import BaggingClassifier\n",
        "from sklearn.svm import SVC\n",
        "from sklearn.tree import DecisionTreeClassifier\n",
        "from sklearn.preprocessing import Normalizer, StandardScaler\n"
      ],
      "execution_count": null,
      "outputs": []
    },
    {
      "cell_type": "code",
      "source": [
        "normalizer = Normalizer()\n",
        "standarizer = StandardScaler()\n",
        "preprocessor = standarizer"
      ],
      "metadata": {
        "id": "7Oqvn9W3aswB"
      },
      "execution_count": null,
      "outputs": []
    },
    {
      "cell_type": "markdown",
      "metadata": {
        "id": "RF1MVeZptPbF"
      },
      "source": [
        "## Testy na zbiorach danych"
      ]
    },
    {
      "cell_type": "code",
      "metadata": {
        "id": "w1ygxI8AtPbF"
      },
      "source": [
        "\n",
        "def preprocess_data(X, preprocessor=None):\n",
        "    if preprocessor is not None:\n",
        "        preprocessor.fit(X)\n",
        "        X_preprocessed = X.copy()\n",
        "        X_preprocessed[:] = preprocessor.transform(X.values)\n",
        "        X = X_preprocessed\n",
        "    return X"
      ],
      "execution_count": null,
      "outputs": []
    },
    {
      "cell_type": "code",
      "metadata": {
        "id": "vZt5H6gxtPbF"
      },
      "source": [
        "from sklearn.metrics import accuracy_score, precision_score, recall_score, f1_score, confusion_matrix\n",
        "import matplotlib.pyplot as plt\n",
        "import numpy as np\n",
        "\n",
        "# average:\n",
        "#   None - wyniki dla każdej klasy osobno\n",
        "#   'binary' - dla wybranej w `pos_label` etykiety\n",
        "#   'micro' - dla całkowitej liczby TP, FN, FP\n",
        "#   'macro' - nieważona średnia dla każdej klasy\n",
        "#   'weighted' - ważona średnia dla każdej klasy\n",
        "\n",
        "def calculate_metrics(target, prediction, average='weighted'):\n",
        "    accuracy = accuracy_score(target, prediction)\n",
        "    precision = precision_score(target, prediction, average=average)\n",
        "    recall = recall_score(target, prediction, average=average)\n",
        "    f1 = f1_score(target, prediction, average=average)\n",
        "    mislabeled = (target != prediction).sum()\n",
        "    total = len(target)\n",
        "    return accuracy, precision, recall, f1, mislabeled, total\n",
        "\n",
        "def print_results(metrics, classifier_id='classifier'):\n",
        "    print(f'Results for {classifier_id}')\n",
        "    print('----')\n",
        "    print(f'  Accuracy:  {metrics[0]}')\n",
        "    print(f'  Precision: {metrics[1]}')\n",
        "    print(f'  Recall:    {metrics[2]}')\n",
        "    print(f'  F1 score:  {metrics[3]}')\n",
        "    print(f'  Mislabeled {metrics[4]} out of {metrics[5]}')\n",
        "    print('\\n')\n",
        "    \n",
        "def plot_confusion_matrix(confusion_matrix, classes, title=None,\n",
        "                          title_appendix='',\n",
        "                          cmap=plt.cm.Blues):\n",
        "    # tytuł wykresu\n",
        "    if title_appendix:\n",
        "        title_appendix = f'({title_appendix})'\n",
        "    if title is None:\n",
        "        title = f'Confusion matrix {title_appendix}'\n",
        "    \n",
        "    fig, ax = plt.subplots()\n",
        "    # rysuje CM\n",
        "    img = ax.imshow(confusion_matrix, cmap=cmap)\n",
        "    # dodaje pasek z boku\n",
        "    ax.figure.colorbar(img, ax=ax)\n",
        "    # dodatki do wykresu\n",
        "    ax.set_xticks(np.arange(confusion_matrix.shape[1]))\n",
        "    ax.set_xticklabels(classes, rotation=45, ha='right', rotation_mode='anchor')\n",
        "    ax.set_yticks(np.arange(confusion_matrix.shape[0]))\n",
        "    ax.set_yticklabels(classes, rotation=45, ha='right', rotation_mode='anchor')\n",
        "    ax.set_title(title)\n",
        "    ax.set_ylabel('True label')\n",
        "    ax.set_xlabel('Predicted label')\n",
        "    \n",
        "    # etykiety\n",
        "    fmt = '.2f' if confusion_matrix.dtype == 'float' else 'd'\n",
        "    thresh = confusion_matrix.max() / 2\n",
        "    for y, row in enumerate(confusion_matrix):\n",
        "        for x, cell in enumerate(row):\n",
        "            ax.text(x, y, format(cell, fmt),\n",
        "                    ha='center', va='center',\n",
        "                    color='white' if cell > thresh else 'black')\n",
        "    fig.tight_layout()\n",
        "    \n",
        "    return ax\n",
        "\n",
        "def normalize_confusion_matrix(confusion_matrix):\n",
        "    return confusion_matrix.astype(\n",
        "        'float') / confusion_matrix.sum(\n",
        "        axis=1)[np.newaxis].T"
      ],
      "execution_count": null,
      "outputs": []
    },
    {
      "cell_type": "code",
      "metadata": {
        "colab": {
          "base_uri": "https://localhost:8080/",
          "height": 272
        },
        "id": "KLuyDXm_tPbF",
        "outputId": "8f08df1f-e4f5-4691-f008-5ff416e9a34c"
      },
      "source": [
        "X = preprocess_data(X, standarizer)\n",
        "X.head()"
      ],
      "execution_count": null,
      "outputs": [
        {
          "output_type": "stream",
          "name": "stderr",
          "text": [
            "/usr/local/lib/python3.7/dist-packages/sklearn/base.py:451: UserWarning: X does not have valid feature names, but StandardScaler was fitted with feature names\n",
            "  \"X does not have valid feature names, but\"\n"
          ]
        },
        {
          "output_type": "execute_result",
          "data": {
            "text/plain": [
              "    refractive index    Sodium  Magnesium  Aluminum   Silicon  Potassium  \\\n",
              "ID                                                                         \n",
              "1           0.872868  0.284953   1.254639 -0.692442 -1.127082  -0.671705   \n",
              "2          -0.249333  0.591817   0.636168 -0.170460  0.102319  -0.026213   \n",
              "3          -0.721318  0.149933   0.601422  0.190912  0.438787  -0.164533   \n",
              "4          -0.232831 -0.242853   0.698710 -0.310994 -0.052974   0.112107   \n",
              "5          -0.312045 -0.169205   0.650066 -0.411375  0.555256   0.081369   \n",
              "\n",
              "     Calcium    Barium      Iron  \n",
              "ID                                \n",
              "1  -0.145766 -0.352877 -0.586451  \n",
              "2  -0.793734 -0.352877 -0.586451  \n",
              "3  -0.828949 -0.352877 -0.586451  \n",
              "4  -0.519052 -0.352877 -0.586451  \n",
              "5  -0.624699 -0.352877 -0.586451  "
            ],
            "text/html": [
              "\n",
              "  <div id=\"df-d88a9671-0d8c-44ff-8bb4-6c6531ade666\">\n",
              "    <div class=\"colab-df-container\">\n",
              "      <div>\n",
              "<style scoped>\n",
              "    .dataframe tbody tr th:only-of-type {\n",
              "        vertical-align: middle;\n",
              "    }\n",
              "\n",
              "    .dataframe tbody tr th {\n",
              "        vertical-align: top;\n",
              "    }\n",
              "\n",
              "    .dataframe thead th {\n",
              "        text-align: right;\n",
              "    }\n",
              "</style>\n",
              "<table border=\"1\" class=\"dataframe\">\n",
              "  <thead>\n",
              "    <tr style=\"text-align: right;\">\n",
              "      <th></th>\n",
              "      <th>refractive index</th>\n",
              "      <th>Sodium</th>\n",
              "      <th>Magnesium</th>\n",
              "      <th>Aluminum</th>\n",
              "      <th>Silicon</th>\n",
              "      <th>Potassium</th>\n",
              "      <th>Calcium</th>\n",
              "      <th>Barium</th>\n",
              "      <th>Iron</th>\n",
              "    </tr>\n",
              "    <tr>\n",
              "      <th>ID</th>\n",
              "      <th></th>\n",
              "      <th></th>\n",
              "      <th></th>\n",
              "      <th></th>\n",
              "      <th></th>\n",
              "      <th></th>\n",
              "      <th></th>\n",
              "      <th></th>\n",
              "      <th></th>\n",
              "    </tr>\n",
              "  </thead>\n",
              "  <tbody>\n",
              "    <tr>\n",
              "      <th>1</th>\n",
              "      <td>0.872868</td>\n",
              "      <td>0.284953</td>\n",
              "      <td>1.254639</td>\n",
              "      <td>-0.692442</td>\n",
              "      <td>-1.127082</td>\n",
              "      <td>-0.671705</td>\n",
              "      <td>-0.145766</td>\n",
              "      <td>-0.352877</td>\n",
              "      <td>-0.586451</td>\n",
              "    </tr>\n",
              "    <tr>\n",
              "      <th>2</th>\n",
              "      <td>-0.249333</td>\n",
              "      <td>0.591817</td>\n",
              "      <td>0.636168</td>\n",
              "      <td>-0.170460</td>\n",
              "      <td>0.102319</td>\n",
              "      <td>-0.026213</td>\n",
              "      <td>-0.793734</td>\n",
              "      <td>-0.352877</td>\n",
              "      <td>-0.586451</td>\n",
              "    </tr>\n",
              "    <tr>\n",
              "      <th>3</th>\n",
              "      <td>-0.721318</td>\n",
              "      <td>0.149933</td>\n",
              "      <td>0.601422</td>\n",
              "      <td>0.190912</td>\n",
              "      <td>0.438787</td>\n",
              "      <td>-0.164533</td>\n",
              "      <td>-0.828949</td>\n",
              "      <td>-0.352877</td>\n",
              "      <td>-0.586451</td>\n",
              "    </tr>\n",
              "    <tr>\n",
              "      <th>4</th>\n",
              "      <td>-0.232831</td>\n",
              "      <td>-0.242853</td>\n",
              "      <td>0.698710</td>\n",
              "      <td>-0.310994</td>\n",
              "      <td>-0.052974</td>\n",
              "      <td>0.112107</td>\n",
              "      <td>-0.519052</td>\n",
              "      <td>-0.352877</td>\n",
              "      <td>-0.586451</td>\n",
              "    </tr>\n",
              "    <tr>\n",
              "      <th>5</th>\n",
              "      <td>-0.312045</td>\n",
              "      <td>-0.169205</td>\n",
              "      <td>0.650066</td>\n",
              "      <td>-0.411375</td>\n",
              "      <td>0.555256</td>\n",
              "      <td>0.081369</td>\n",
              "      <td>-0.624699</td>\n",
              "      <td>-0.352877</td>\n",
              "      <td>-0.586451</td>\n",
              "    </tr>\n",
              "  </tbody>\n",
              "</table>\n",
              "</div>\n",
              "      <button class=\"colab-df-convert\" onclick=\"convertToInteractive('df-d88a9671-0d8c-44ff-8bb4-6c6531ade666')\"\n",
              "              title=\"Convert this dataframe to an interactive table.\"\n",
              "              style=\"display:none;\">\n",
              "        \n",
              "  <svg xmlns=\"http://www.w3.org/2000/svg\" height=\"24px\"viewBox=\"0 0 24 24\"\n",
              "       width=\"24px\">\n",
              "    <path d=\"M0 0h24v24H0V0z\" fill=\"none\"/>\n",
              "    <path d=\"M18.56 5.44l.94 2.06.94-2.06 2.06-.94-2.06-.94-.94-2.06-.94 2.06-2.06.94zm-11 1L8.5 8.5l.94-2.06 2.06-.94-2.06-.94L8.5 2.5l-.94 2.06-2.06.94zm10 10l.94 2.06.94-2.06 2.06-.94-2.06-.94-.94-2.06-.94 2.06-2.06.94z\"/><path d=\"M17.41 7.96l-1.37-1.37c-.4-.4-.92-.59-1.43-.59-.52 0-1.04.2-1.43.59L10.3 9.45l-7.72 7.72c-.78.78-.78 2.05 0 2.83L4 21.41c.39.39.9.59 1.41.59.51 0 1.02-.2 1.41-.59l7.78-7.78 2.81-2.81c.8-.78.8-2.07 0-2.86zM5.41 20L4 18.59l7.72-7.72 1.47 1.35L5.41 20z\"/>\n",
              "  </svg>\n",
              "      </button>\n",
              "      \n",
              "  <style>\n",
              "    .colab-df-container {\n",
              "      display:flex;\n",
              "      flex-wrap:wrap;\n",
              "      gap: 12px;\n",
              "    }\n",
              "\n",
              "    .colab-df-convert {\n",
              "      background-color: #E8F0FE;\n",
              "      border: none;\n",
              "      border-radius: 50%;\n",
              "      cursor: pointer;\n",
              "      display: none;\n",
              "      fill: #1967D2;\n",
              "      height: 32px;\n",
              "      padding: 0 0 0 0;\n",
              "      width: 32px;\n",
              "    }\n",
              "\n",
              "    .colab-df-convert:hover {\n",
              "      background-color: #E2EBFA;\n",
              "      box-shadow: 0px 1px 2px rgba(60, 64, 67, 0.3), 0px 1px 3px 1px rgba(60, 64, 67, 0.15);\n",
              "      fill: #174EA6;\n",
              "    }\n",
              "\n",
              "    [theme=dark] .colab-df-convert {\n",
              "      background-color: #3B4455;\n",
              "      fill: #D2E3FC;\n",
              "    }\n",
              "\n",
              "    [theme=dark] .colab-df-convert:hover {\n",
              "      background-color: #434B5C;\n",
              "      box-shadow: 0px 1px 3px 1px rgba(0, 0, 0, 0.15);\n",
              "      filter: drop-shadow(0px 1px 2px rgba(0, 0, 0, 0.3));\n",
              "      fill: #FFFFFF;\n",
              "    }\n",
              "  </style>\n",
              "\n",
              "      <script>\n",
              "        const buttonEl =\n",
              "          document.querySelector('#df-d88a9671-0d8c-44ff-8bb4-6c6531ade666 button.colab-df-convert');\n",
              "        buttonEl.style.display =\n",
              "          google.colab.kernel.accessAllowed ? 'block' : 'none';\n",
              "\n",
              "        async function convertToInteractive(key) {\n",
              "          const element = document.querySelector('#df-d88a9671-0d8c-44ff-8bb4-6c6531ade666');\n",
              "          const dataTable =\n",
              "            await google.colab.kernel.invokeFunction('convertToInteractive',\n",
              "                                                     [key], {});\n",
              "          if (!dataTable) return;\n",
              "\n",
              "          const docLinkHtml = 'Like what you see? Visit the ' +\n",
              "            '<a target=\"_blank\" href=https://colab.research.google.com/notebooks/data_table.ipynb>data table notebook</a>'\n",
              "            + ' to learn more about interactive tables.';\n",
              "          element.innerHTML = '';\n",
              "          dataTable['output_type'] = 'display_data';\n",
              "          await google.colab.output.renderOutput(dataTable, element);\n",
              "          const docLink = document.createElement('div');\n",
              "          docLink.innerHTML = docLinkHtml;\n",
              "          element.appendChild(docLink);\n",
              "        }\n",
              "      </script>\n",
              "    </div>\n",
              "  </div>\n",
              "  "
            ]
          },
          "metadata": {},
          "execution_count": 36
        }
      ]
    },
    {
      "cell_type": "code",
      "metadata": {
        "id": "yHUMZ-E_tPbG"
      },
      "source": [
        "from sklearn.model_selection import train_test_split\n",
        "\n",
        "X_train, X_test, y_train, y_test = train_test_split(X, y, test_size=0.2, stratify=y, random_state=42)"
      ],
      "execution_count": null,
      "outputs": []
    },
    {
      "cell_type": "code",
      "metadata": {
        "id": "izNg79oPtPbG"
      },
      "source": [
        "from sklearn.ensemble import BaggingClassifier\n",
        "from sklearn.tree import DecisionTreeClassifier\n",
        "from sklearn.linear_model import LogisticRegression\n",
        "from sklearn.svm import SVC"
      ],
      "execution_count": null,
      "outputs": []
    },
    {
      "cell_type": "code",
      "metadata": {
        "id": "5qYX4SRlwkmI"
      },
      "source": [
        "svm = SVC(C=100, gamma = 0.01)\n",
        "svm.fit(X_train, y_train)\n",
        "y_svm_predict = svm.predict(X_test)"
      ],
      "execution_count": null,
      "outputs": []
    },
    {
      "cell_type": "code",
      "metadata": {
        "colab": {
          "base_uri": "https://localhost:8080/",
          "height": 471
        },
        "id": "HI3fY_zYwqr0",
        "outputId": "de30ddf2-0c8d-4c19-ea19-f4babcd3c069"
      },
      "source": [
        "print_results(calculate_metrics(y_test.values, y_svm_predict), 'SVM')\n",
        "cm = confusion_matrix(y_test, y_svm_predict)\n",
        "plot_confusion_matrix(cm, classes)"
      ],
      "execution_count": null,
      "outputs": [
        {
          "output_type": "stream",
          "name": "stdout",
          "text": [
            "Results for SVM\n",
            "----\n",
            "  Accuracy:  0.7441860465116279\n",
            "  Precision: 0.7131782945736433\n",
            "  Recall:    0.7441860465116279\n",
            "  F1 score:  0.7268644747393745\n",
            "  Mislabeled 11 out of 43\n",
            "\n",
            "\n"
          ]
        },
        {
          "output_type": "execute_result",
          "data": {
            "text/plain": [
              "<matplotlib.axes._subplots.AxesSubplot at 0x7f8cb0dccc10>"
            ]
          },
          "metadata": {},
          "execution_count": 40
        },
        {
          "output_type": "display_data",
          "data": {
            "text/plain": [
              "<Figure size 432x288 with 2 Axes>"
            ],
            "image/png": "[encoded data removed]"
          },
          "metadata": {
            "needs_background": "light"
          }
        }
      ]
    },
    {
      "cell_type": "code",
      "source": [
        "from sklearn.model_selection import cross_validate\n",
        "cv_results = cross_validate(svm, X, y, cv=10,  scoring = 'f1_weighted')"
      ],
      "metadata": {
        "colab": {
          "base_uri": "https://localhost:8080/"
        },
        "id": "07iXexrRJG7N",
        "outputId": "216e0dd0-c508-4f28-9928-26b8ac24aa5f"
      },
      "execution_count": null,
      "outputs": [
        {
          "output_type": "stream",
          "name": "stderr",
          "text": [
            "/usr/local/lib/python3.7/dist-packages/sklearn/model_selection/_split.py:680: UserWarning: The least populated class in y has only 9 members, which is less than n_splits=10.\n",
            "  UserWarning,\n"
          ]
        }
      ]
    },
    {
      "cell_type": "code",
      "source": [
        "cv_results['test_score']"
      ],
      "metadata": {
        "colab": {
          "base_uri": "https://localhost:8080/"
        },
        "id": "PIZU1W3SJYBJ",
        "outputId": "23a7d4c9-e1e9-4003-d5a1-fa9730124ebe"
      },
      "execution_count": null,
      "outputs": [
        {
          "output_type": "execute_result",
          "data": {
            "text/plain": [
              "array([0.62307692, 0.6462704 , 0.73737374, 0.77005348, 0.56429845,\n",
              "       0.53852814, 0.73015873, 0.75198413, 0.55952381, 0.60275689])"
            ]
          },
          "metadata": {},
          "execution_count": 42
        }
      ]
    },
    {
      "cell_type": "code",
      "metadata": {
        "id": "dmBiSeMhtPbG"
      },
      "source": [
        "bclf = BaggingClassifier(base_estimator = LogisticRegression(), n_estimators = 50)\n",
        "bclf.fit(X_train, y_train)\n",
        "y_b = bclf.predict(X_test)"
      ],
      "execution_count": null,
      "outputs": []
    },
    {
      "cell_type": "code",
      "metadata": {
        "colab": {
          "base_uri": "https://localhost:8080/",
          "height": 471
        },
        "id": "qOcSoMaXtPbG",
        "outputId": "8b4d817c-e9a2-437b-ebe2-5de3e6406f70"
      },
      "source": [
        "print_results(calculate_metrics(y_test.values, y_b), 'Bagging Ensemble')\n",
        "cm = confusion_matrix(y_test, y_b)\n",
        "plot_confusion_matrix(cm, classes)"
      ],
      "execution_count": null,
      "outputs": [
        {
          "output_type": "stream",
          "name": "stdout",
          "text": [
            "Results for Bagging Ensemble\n",
            "----\n",
            "  Accuracy:  0.6744186046511628\n",
            "  Precision: 0.6395348837209303\n",
            "  Recall:    0.6744186046511628\n",
            "  F1 score:  0.6524458700882116\n",
            "  Mislabeled 14 out of 43\n",
            "\n",
            "\n"
          ]
        },
        {
          "output_type": "execute_result",
          "data": {
            "text/plain": [
              "<matplotlib.axes._subplots.AxesSubplot at 0x7f8cb0eca610>"
            ]
          },
          "metadata": {},
          "execution_count": 49
        },
        {
          "output_type": "display_data",
          "data": {
            "text/plain": [
              "<Figure size 432x288 with 2 Axes>"
            ],
            "image/png": "[encoded data removed]"
          },
          "metadata": {
            "needs_background": "light"
          }
        }
      ]
    },
    {
      "cell_type": "code",
      "metadata": {
        "colab": {
          "base_uri": "https://localhost:8080/"
        },
        "id": "ppQwOYD2tPbG",
        "outputId": "1a2d0449-5aa3-4554-c955-f8f6ab07ac6b"
      },
      "source": [
        "print(bclf.estimators_)"
      ],
      "execution_count": null,
      "outputs": [
        {
          "output_type": "stream",
          "name": "stdout",
          "text": [
            "[LogisticRegression(random_state=970785355), LogisticRegression(random_state=659573833), LogisticRegression(random_state=1268013136), LogisticRegression(random_state=1720831162), LogisticRegression(random_state=287137610), LogisticRegression(random_state=167467990), LogisticRegression(random_state=761996537), LogisticRegression(random_state=564798012), LogisticRegression(random_state=633609346), LogisticRegression(random_state=1234943072), LogisticRegression(random_state=465468780), LogisticRegression(random_state=1297152767), LogisticRegression(random_state=1743006028), LogisticRegression(random_state=1682823453), LogisticRegression(random_state=467805120), LogisticRegression(random_state=1453088676), LogisticRegression(random_state=297884717), LogisticRegression(random_state=1607498567), LogisticRegression(random_state=367949233), LogisticRegression(random_state=405354323), LogisticRegression(random_state=1964049261), LogisticRegression(random_state=993506004), LogisticRegression(random_state=2130049452), LogisticRegression(random_state=1094176589), LogisticRegression(random_state=597571378), LogisticRegression(random_state=97234663), LogisticRegression(random_state=1776744330), LogisticRegression(random_state=210912203), LogisticRegression(random_state=1924138578), LogisticRegression(random_state=431290483), LogisticRegression(random_state=528198045), LogisticRegression(random_state=1510526791), LogisticRegression(random_state=1953544695), LogisticRegression(random_state=1463598921), LogisticRegression(random_state=190106925), LogisticRegression(random_state=1602277936), LogisticRegression(random_state=1093548816), LogisticRegression(random_state=51485235), LogisticRegression(random_state=1529413138), LogisticRegression(random_state=1138820947), LogisticRegression(random_state=232552201), LogisticRegression(random_state=453633126), LogisticRegression(random_state=1153940474), LogisticRegression(random_state=1988210782), LogisticRegression(random_state=151309376), LogisticRegression(random_state=1162595222), LogisticRegression(random_state=1849012152), LogisticRegression(random_state=723409528), LogisticRegression(random_state=642698070), LogisticRegression(random_state=1433439131)]\n"
          ]
        }
      ]
    },
    {
      "cell_type": "code",
      "source": [
        "cv_results = cross_validate(bclf, X, y, cv=10,  scoring = 'f1_weighted')\n",
        "cv_results['test_score']"
      ],
      "metadata": {
        "colab": {
          "base_uri": "https://localhost:8080/"
        },
        "id": "qYEJhIHtKRm4",
        "outputId": "170f828c-60cf-43cc-b8a9-9493480eea24"
      },
      "execution_count": null,
      "outputs": [
        {
          "output_type": "stream",
          "name": "stderr",
          "text": [
            "/usr/local/lib/python3.7/dist-packages/sklearn/model_selection/_split.py:680: UserWarning: The least populated class in y has only 9 members, which is less than n_splits=10.\n",
            "  UserWarning,\n"
          ]
        },
        {
          "output_type": "execute_result",
          "data": {
            "text/plain": [
              "array([0.58585859, 0.45790514, 0.59458556, 0.75378788, 0.35124717,\n",
              "       0.59447779, 0.68253968, 0.43673469, 0.54166667, 0.75070028])"
            ]
          },
          "metadata": {},
          "execution_count": 51
        }
      ]
    },
    {
      "cell_type": "code",
      "source": [
        "np.average(cv_results['test_score'])"
      ],
      "metadata": {
        "colab": {
          "base_uri": "https://localhost:8080/"
        },
        "id": "NZUhsj-MKk3Z",
        "outputId": "89cbf987-bec7-4771-da27-226f6dd7f1dd"
      },
      "execution_count": null,
      "outputs": [
        {
          "output_type": "execute_result",
          "data": {
            "text/plain": [
              "0.665370405349397"
            ]
          },
          "metadata": {},
          "execution_count": 47
        }
      ]
    },
    {
      "cell_type": "markdown",
      "metadata": {
        "id": "RkYZp105tPbH"
      },
      "source": [
        "Random Forest\n",
        "----"
      ]
    },
    {
      "cell_type": "code",
      "metadata": {
        "scrolled": true,
        "colab": {
          "base_uri": "https://localhost:8080/"
        },
        "id": "pdn_j3X8tPbH",
        "outputId": "ca98f8b8-3e58-4154-9341-ef5e58a3babc"
      },
      "source": [
        "from sklearn.ensemble import RandomForestClassifier\n",
        "rfclf = RandomForestClassifier(n_estimators=500, max_depth =8)\n",
        "\n",
        "rfclf.fit(X_train, y_train)"
      ],
      "execution_count": null,
      "outputs": [
        {
          "output_type": "execute_result",
          "data": {
            "text/plain": [
              "RandomForestClassifier(max_depth=8, n_estimators=500)"
            ]
          },
          "metadata": {},
          "execution_count": 60
        }
      ]
    },
    {
      "cell_type": "code",
      "source": [
        "y_r = rfclf.predict(X_test)"
      ],
      "metadata": {
        "id": "85KtL074Rh4G"
      },
      "execution_count": null,
      "outputs": []
    },
    {
      "cell_type": "code",
      "source": [
        "print(rfclf.estimators_)"
      ],
      "metadata": {
        "colab": {
          "base_uri": "https://localhost:8080/"
        },
        "id": "1vhW5S69efBV",
        "outputId": "c91a900a-78d2-4894-c49b-3f9a37622617"
      },
      "execution_count": null,
      "outputs": [
        {
          "output_type": "stream",
          "name": "stdout",
          "text": [
            "[DecisionTreeClassifier(max_depth=8, max_features='auto',\n",
            "                       random_state=1974606002), DecisionTreeClassifier(max_depth=8, max_features='auto', random_state=234485106), DecisionTreeClassifier(max_depth=8, max_features='auto',\n",
            "                       random_state=1266602660), DecisionTreeClassifier(max_depth=8, max_features='auto', random_state=931026683), DecisionTreeClassifier(max_depth=8, max_features='auto',\n",
            "                       random_state=1122273017), DecisionTreeClassifier(max_depth=8, max_features='auto',\n",
            "                       random_state=1429205564), DecisionTreeClassifier(max_depth=8, max_features='auto', random_state=400335573), DecisionTreeClassifier(max_depth=8, max_features='auto', random_state=978131218), DecisionTreeClassifier(max_depth=8, max_features='auto', random_state=488341207), DecisionTreeClassifier(max_depth=8, max_features='auto', random_state=943376016), DecisionTreeClassifier(max_depth=8, max_features='auto', random_state=783631769), DecisionTreeClassifier(max_depth=8, max_features='auto', random_state=702153127), DecisionTreeClassifier(max_depth=8, max_features='auto',\n",
            "                       random_state=1368824794), DecisionTreeClassifier(max_depth=8, max_features='auto',\n",
            "                       random_state=1915649167), DecisionTreeClassifier(max_depth=8, max_features='auto',\n",
            "                       random_state=1075977083), DecisionTreeClassifier(max_depth=8, max_features='auto',\n",
            "                       random_state=1148265470), DecisionTreeClassifier(max_depth=8, max_features='auto', random_state=177565387), DecisionTreeClassifier(max_depth=8, max_features='auto',\n",
            "                       random_state=2122026681), DecisionTreeClassifier(max_depth=8, max_features='auto',\n",
            "                       random_state=1343249991), DecisionTreeClassifier(max_depth=8, max_features='auto', random_state=275123067), DecisionTreeClassifier(max_depth=8, max_features='auto', random_state=98321720), DecisionTreeClassifier(max_depth=8, max_features='auto',\n",
            "                       random_state=2067880831), DecisionTreeClassifier(max_depth=8, max_features='auto', random_state=642659694), DecisionTreeClassifier(max_depth=8, max_features='auto', random_state=105475813), DecisionTreeClassifier(max_depth=8, max_features='auto', random_state=125980125), DecisionTreeClassifier(max_depth=8, max_features='auto', random_state=298075718), DecisionTreeClassifier(max_depth=8, max_features='auto',\n",
            "                       random_state=2093181981), DecisionTreeClassifier(max_depth=8, max_features='auto',\n",
            "                       random_state=1121390072), DecisionTreeClassifier(max_depth=8, max_features='auto',\n",
            "                       random_state=1224802024), DecisionTreeClassifier(max_depth=8, max_features='auto',\n",
            "                       random_state=1792492164), DecisionTreeClassifier(max_depth=8, max_features='auto',\n",
            "                       random_state=1071317792), DecisionTreeClassifier(max_depth=8, max_features='auto',\n",
            "                       random_state=1019173891), DecisionTreeClassifier(max_depth=8, max_features='auto', random_state=954660224), DecisionTreeClassifier(max_depth=8, max_features='auto',\n",
            "                       random_state=1814699772), DecisionTreeClassifier(max_depth=8, max_features='auto', random_state=774469), DecisionTreeClassifier(max_depth=8, max_features='auto', random_state=250774189), DecisionTreeClassifier(max_depth=8, max_features='auto',\n",
            "                       random_state=1027443757), DecisionTreeClassifier(max_depth=8, max_features='auto', random_state=667497638), DecisionTreeClassifier(max_depth=8, max_features='auto', random_state=776339312), DecisionTreeClassifier(max_depth=8, max_features='auto',\n",
            "                       random_state=2114262000), DecisionTreeClassifier(max_depth=8, max_features='auto',\n",
            "                       random_state=2142041178), DecisionTreeClassifier(max_depth=8, max_features='auto', random_state=616971357), DecisionTreeClassifier(max_depth=8, max_features='auto',\n",
            "                       random_state=2035606398), DecisionTreeClassifier(max_depth=8, max_features='auto', random_state=537012849), DecisionTreeClassifier(max_depth=8, max_features='auto', random_state=954943280), DecisionTreeClassifier(max_depth=8, max_features='auto',\n",
            "                       random_state=1411244410), DecisionTreeClassifier(max_depth=8, max_features='auto',\n",
            "                       random_state=1871300144), DecisionTreeClassifier(max_depth=8, max_features='auto', random_state=78102138), DecisionTreeClassifier(max_depth=8, max_features='auto', random_state=707669428), DecisionTreeClassifier(max_depth=8, max_features='auto', random_state=960499044), DecisionTreeClassifier(max_depth=8, max_features='auto', random_state=479812510), DecisionTreeClassifier(max_depth=8, max_features='auto',\n",
            "                       random_state=1970038610), DecisionTreeClassifier(max_depth=8, max_features='auto', random_state=16623103), DecisionTreeClassifier(max_depth=8, max_features='auto',\n",
            "                       random_state=1026746247), DecisionTreeClassifier(max_depth=8, max_features='auto',\n",
            "                       random_state=1083603710), DecisionTreeClassifier(max_depth=8, max_features='auto', random_state=850444519), DecisionTreeClassifier(max_depth=8, max_features='auto', random_state=372934879), DecisionTreeClassifier(max_depth=8, max_features='auto',\n",
            "                       random_state=1877556498), DecisionTreeClassifier(max_depth=8, max_features='auto', random_state=213736249), DecisionTreeClassifier(max_depth=8, max_features='auto',\n",
            "                       random_state=1133692108), DecisionTreeClassifier(max_depth=8, max_features='auto',\n",
            "                       random_state=1007561210), DecisionTreeClassifier(max_depth=8, max_features='auto', random_state=212899967), DecisionTreeClassifier(max_depth=8, max_features='auto', random_state=475249863), DecisionTreeClassifier(max_depth=8, max_features='auto', random_state=839740137), DecisionTreeClassifier(max_depth=8, max_features='auto',\n",
            "                       random_state=1728447216), DecisionTreeClassifier(max_depth=8, max_features='auto', random_state=694604574), DecisionTreeClassifier(max_depth=8, max_features='auto', random_state=984156812), DecisionTreeClassifier(max_depth=8, max_features='auto', random_state=942144436), DecisionTreeClassifier(max_depth=8, max_features='auto',\n",
            "                       random_state=1039536142), DecisionTreeClassifier(max_depth=8, max_features='auto', random_state=78808386), DecisionTreeClassifier(max_depth=8, max_features='auto',\n",
            "                       random_state=1035402697), DecisionTreeClassifier(max_depth=8, max_features='auto',\n",
            "                       random_state=1576164951), DecisionTreeClassifier(max_depth=8, max_features='auto', random_state=356405168), DecisionTreeClassifier(max_depth=8, max_features='auto',\n",
            "                       random_state=1896189133), DecisionTreeClassifier(max_depth=8, max_features='auto', random_state=71612752), DecisionTreeClassifier(max_depth=8, max_features='auto', random_state=918600700), DecisionTreeClassifier(max_depth=8, max_features='auto', random_state=386932320), DecisionTreeClassifier(max_depth=8, max_features='auto',\n",
            "                       random_state=1452800510), DecisionTreeClassifier(max_depth=8, max_features='auto',\n",
            "                       random_state=1597840366), DecisionTreeClassifier(max_depth=8, max_features='auto',\n",
            "                       random_state=1293863112), DecisionTreeClassifier(max_depth=8, max_features='auto',\n",
            "                       random_state=2113099640), DecisionTreeClassifier(max_depth=8, max_features='auto',\n",
            "                       random_state=1036095021), DecisionTreeClassifier(max_depth=8, max_features='auto',\n",
            "                       random_state=1994028402), DecisionTreeClassifier(max_depth=8, max_features='auto',\n",
            "                       random_state=1051401405), DecisionTreeClassifier(max_depth=8, max_features='auto', random_state=611421598), DecisionTreeClassifier(max_depth=8, max_features='auto', random_state=567054612), DecisionTreeClassifier(max_depth=8, max_features='auto', random_state=795192117), DecisionTreeClassifier(max_depth=8, max_features='auto',\n",
            "                       random_state=1760941490), DecisionTreeClassifier(max_depth=8, max_features='auto',\n",
            "                       random_state=1669878805), DecisionTreeClassifier(max_depth=8, max_features='auto',\n",
            "                       random_state=1131191892), DecisionTreeClassifier(max_depth=8, max_features='auto',\n",
            "                       random_state=1801138357), DecisionTreeClassifier(max_depth=8, max_features='auto', random_state=683541322), DecisionTreeClassifier(max_depth=8, max_features='auto', random_state=16317102), DecisionTreeClassifier(max_depth=8, max_features='auto',\n",
            "                       random_state=2005969312), DecisionTreeClassifier(max_depth=8, max_features='auto',\n",
            "                       random_state=1462031445), DecisionTreeClassifier(max_depth=8, max_features='auto',\n",
            "                       random_state=1433752050), DecisionTreeClassifier(max_depth=8, max_features='auto',\n",
            "                       random_state=2067577510), DecisionTreeClassifier(max_depth=8, max_features='auto',\n",
            "                       random_state=1115410944), DecisionTreeClassifier(max_depth=8, max_features='auto',\n",
            "                       random_state=1873195278), DecisionTreeClassifier(max_depth=8, max_features='auto', random_state=303465114), DecisionTreeClassifier(max_depth=8, max_features='auto', random_state=298808510), DecisionTreeClassifier(max_depth=8, max_features='auto',\n",
            "                       random_state=1665196236), DecisionTreeClassifier(max_depth=8, max_features='auto', random_state=943346524), DecisionTreeClassifier(max_depth=8, max_features='auto',\n",
            "                       random_state=1485735053), DecisionTreeClassifier(max_depth=8, max_features='auto', random_state=876664081), DecisionTreeClassifier(max_depth=8, max_features='auto',\n",
            "                       random_state=1119213907), DecisionTreeClassifier(max_depth=8, max_features='auto',\n",
            "                       random_state=1019569731), DecisionTreeClassifier(max_depth=8, max_features='auto', random_state=730922558), DecisionTreeClassifier(max_depth=8, max_features='auto',\n",
            "                       random_state=1232586890), DecisionTreeClassifier(max_depth=8, max_features='auto', random_state=180317477), DecisionTreeClassifier(max_depth=8, max_features='auto',\n",
            "                       random_state=2141540475), DecisionTreeClassifier(max_depth=8, max_features='auto', random_state=879310245), DecisionTreeClassifier(max_depth=8, max_features='auto',\n",
            "                       random_state=1360061205), DecisionTreeClassifier(max_depth=8, max_features='auto',\n",
            "                       random_state=1360451567), DecisionTreeClassifier(max_depth=8, max_features='auto', random_state=274301189), DecisionTreeClassifier(max_depth=8, max_features='auto', random_state=961361419), DecisionTreeClassifier(max_depth=8, max_features='auto', random_state=513992779), DecisionTreeClassifier(max_depth=8, max_features='auto',\n",
            "                       random_state=1181859038), DecisionTreeClassifier(max_depth=8, max_features='auto', random_state=869381488), DecisionTreeClassifier(max_depth=8, max_features='auto',\n",
            "                       random_state=1494803784), DecisionTreeClassifier(max_depth=8, max_features='auto',\n",
            "                       random_state=1162685046), DecisionTreeClassifier(max_depth=8, max_features='auto',\n",
            "                       random_state=1959782562), DecisionTreeClassifier(max_depth=8, max_features='auto',\n",
            "                       random_state=1285134888), DecisionTreeClassifier(max_depth=8, max_features='auto',\n",
            "                       random_state=1563618364), DecisionTreeClassifier(max_depth=8, max_features='auto', random_state=594821701), DecisionTreeClassifier(max_depth=8, max_features='auto', random_state=625387310), DecisionTreeClassifier(max_depth=8, max_features='auto', random_state=86540550), DecisionTreeClassifier(max_depth=8, max_features='auto',\n",
            "                       random_state=1031971912), DecisionTreeClassifier(max_depth=8, max_features='auto',\n",
            "                       random_state=1631248099), DecisionTreeClassifier(max_depth=8, max_features='auto', random_state=446216204), DecisionTreeClassifier(max_depth=8, max_features='auto', random_state=634691043), DecisionTreeClassifier(max_depth=8, max_features='auto',\n",
            "                       random_state=1982172494), DecisionTreeClassifier(max_depth=8, max_features='auto',\n",
            "                       random_state=1427089114), DecisionTreeClassifier(max_depth=8, max_features='auto',\n",
            "                       random_state=1546839993), DecisionTreeClassifier(max_depth=8, max_features='auto', random_state=553728457), DecisionTreeClassifier(max_depth=8, max_features='auto', random_state=879833471), DecisionTreeClassifier(max_depth=8, max_features='auto',\n",
            "                       random_state=1169790972), DecisionTreeClassifier(max_depth=8, max_features='auto',\n",
            "                       random_state=1362794917), DecisionTreeClassifier(max_depth=8, max_features='auto', random_state=547618943), DecisionTreeClassifier(max_depth=8, max_features='auto',\n",
            "                       random_state=1581698561), DecisionTreeClassifier(max_depth=8, max_features='auto',\n",
            "                       random_state=2038409888), DecisionTreeClassifier(max_depth=8, max_features='auto', random_state=754109494), DecisionTreeClassifier(max_depth=8, max_features='auto', random_state=299248036), DecisionTreeClassifier(max_depth=8, max_features='auto',\n",
            "                       random_state=1753254240), DecisionTreeClassifier(max_depth=8, max_features='auto',\n",
            "                       random_state=1430293551), DecisionTreeClassifier(max_depth=8, max_features='auto', random_state=37110703), DecisionTreeClassifier(max_depth=8, max_features='auto',\n",
            "                       random_state=1794567260), DecisionTreeClassifier(max_depth=8, max_features='auto',\n",
            "                       random_state=1493009536), DecisionTreeClassifier(max_depth=8, max_features='auto', random_state=124415240), DecisionTreeClassifier(max_depth=8, max_features='auto',\n",
            "                       random_state=1651022499), DecisionTreeClassifier(max_depth=8, max_features='auto',\n",
            "                       random_state=1151815852), DecisionTreeClassifier(max_depth=8, max_features='auto',\n",
            "                       random_state=1179011284), DecisionTreeClassifier(max_depth=8, max_features='auto',\n",
            "                       random_state=1242911242), DecisionTreeClassifier(max_depth=8, max_features='auto',\n",
            "                       random_state=1473867806), DecisionTreeClassifier(max_depth=8, max_features='auto',\n",
            "                       random_state=1435364834), DecisionTreeClassifier(max_depth=8, max_features='auto',\n",
            "                       random_state=1625236952), DecisionTreeClassifier(max_depth=8, max_features='auto',\n",
            "                       random_state=1918540379), DecisionTreeClassifier(max_depth=8, max_features='auto', random_state=725765711), DecisionTreeClassifier(max_depth=8, max_features='auto',\n",
            "                       random_state=1907506564), DecisionTreeClassifier(max_depth=8, max_features='auto',\n",
            "                       random_state=1683379981), DecisionTreeClassifier(max_depth=8, max_features='auto', random_state=22193202), DecisionTreeClassifier(max_depth=8, max_features='auto',\n",
            "                       random_state=2022942913), DecisionTreeClassifier(max_depth=8, max_features='auto', random_state=259504972), DecisionTreeClassifier(max_depth=8, max_features='auto', random_state=990070397), DecisionTreeClassifier(max_depth=8, max_features='auto', random_state=625665842), DecisionTreeClassifier(max_depth=8, max_features='auto', random_state=933667856), DecisionTreeClassifier(max_depth=8, max_features='auto', random_state=253086304), DecisionTreeClassifier(max_depth=8, max_features='auto',\n",
            "                       random_state=2124455075), DecisionTreeClassifier(max_depth=8, max_features='auto',\n",
            "                       random_state=1420955551), DecisionTreeClassifier(max_depth=8, max_features='auto', random_state=346775609), DecisionTreeClassifier(max_depth=8, max_features='auto', random_state=103133864), DecisionTreeClassifier(max_depth=8, max_features='auto', random_state=523839849), DecisionTreeClassifier(max_depth=8, max_features='auto',\n",
            "                       random_state=1893941504), DecisionTreeClassifier(max_depth=8, max_features='auto', random_state=214770658), DecisionTreeClassifier(max_depth=8, max_features='auto',\n",
            "                       random_state=1470072671), DecisionTreeClassifier(max_depth=8, max_features='auto', random_state=438971993), DecisionTreeClassifier(max_depth=8, max_features='auto',\n",
            "                       random_state=1776241526), DecisionTreeClassifier(max_depth=8, max_features='auto', random_state=490705940), DecisionTreeClassifier(max_depth=8, max_features='auto', random_state=277985882), DecisionTreeClassifier(max_depth=8, max_features='auto',\n",
            "                       random_state=1847018347), DecisionTreeClassifier(max_depth=8, max_features='auto',\n",
            "                       random_state=1453997905), DecisionTreeClassifier(max_depth=8, max_features='auto', random_state=187322689), DecisionTreeClassifier(max_depth=8, max_features='auto',\n",
            "                       random_state=1922596991), DecisionTreeClassifier(max_depth=8, max_features='auto',\n",
            "                       random_state=1409978972), DecisionTreeClassifier(max_depth=8, max_features='auto',\n",
            "                       random_state=1002250233), DecisionTreeClassifier(max_depth=8, max_features='auto', random_state=582294881), DecisionTreeClassifier(max_depth=8, max_features='auto', random_state=421380923), DecisionTreeClassifier(max_depth=8, max_features='auto', random_state=488777516), DecisionTreeClassifier(max_depth=8, max_features='auto', random_state=640822809), DecisionTreeClassifier(max_depth=8, max_features='auto', random_state=254531529), DecisionTreeClassifier(max_depth=8, max_features='auto', random_state=262133549), DecisionTreeClassifier(max_depth=8, max_features='auto',\n",
            "                       random_state=1635938513), DecisionTreeClassifier(max_depth=8, max_features='auto', random_state=506123016), DecisionTreeClassifier(max_depth=8, max_features='auto',\n",
            "                       random_state=1042839064), DecisionTreeClassifier(max_depth=8, max_features='auto',\n",
            "                       random_state=1976306805), DecisionTreeClassifier(max_depth=8, max_features='auto',\n",
            "                       random_state=2136063582), DecisionTreeClassifier(max_depth=8, max_features='auto',\n",
            "                       random_state=1134356171), DecisionTreeClassifier(max_depth=8, max_features='auto', random_state=298855493), DecisionTreeClassifier(max_depth=8, max_features='auto', random_state=592438136), DecisionTreeClassifier(max_depth=8, max_features='auto',\n",
            "                       random_state=1537191901), DecisionTreeClassifier(max_depth=8, max_features='auto', random_state=902665337), DecisionTreeClassifier(max_depth=8, max_features='auto',\n",
            "                       random_state=1256601615), DecisionTreeClassifier(max_depth=8, max_features='auto', random_state=792818492), DecisionTreeClassifier(max_depth=8, max_features='auto',\n",
            "                       random_state=1428610109), DecisionTreeClassifier(max_depth=8, max_features='auto',\n",
            "                       random_state=1456016387), DecisionTreeClassifier(max_depth=8, max_features='auto', random_state=583617545), DecisionTreeClassifier(max_depth=8, max_features='auto', random_state=939538263), DecisionTreeClassifier(max_depth=8, max_features='auto', random_state=793555958), DecisionTreeClassifier(max_depth=8, max_features='auto',\n",
            "                       random_state=1559598766), DecisionTreeClassifier(max_depth=8, max_features='auto',\n",
            "                       random_state=1160652246), DecisionTreeClassifier(max_depth=8, max_features='auto',\n",
            "                       random_state=2023145284), DecisionTreeClassifier(max_depth=8, max_features='auto',\n",
            "                       random_state=1107405982), DecisionTreeClassifier(max_depth=8, max_features='auto',\n",
            "                       random_state=1637157432), DecisionTreeClassifier(max_depth=8, max_features='auto', random_state=387344510), DecisionTreeClassifier(max_depth=8, max_features='auto', random_state=781114781), DecisionTreeClassifier(max_depth=8, max_features='auto', random_state=864863487), DecisionTreeClassifier(max_depth=8, max_features='auto', random_state=849767398), DecisionTreeClassifier(max_depth=8, max_features='auto', random_state=320284146), DecisionTreeClassifier(max_depth=8, max_features='auto',\n",
            "                       random_state=1886121279), DecisionTreeClassifier(max_depth=8, max_features='auto', random_state=879557034), DecisionTreeClassifier(max_depth=8, max_features='auto',\n",
            "                       random_state=1650964672), DecisionTreeClassifier(max_depth=8, max_features='auto',\n",
            "                       random_state=1280496907), DecisionTreeClassifier(max_depth=8, max_features='auto', random_state=263182726), DecisionTreeClassifier(max_depth=8, max_features='auto', random_state=231171239), DecisionTreeClassifier(max_depth=8, max_features='auto',\n",
            "                       random_state=2049029741), DecisionTreeClassifier(max_depth=8, max_features='auto', random_state=339667607), DecisionTreeClassifier(max_depth=8, max_features='auto',\n",
            "                       random_state=1507086030), DecisionTreeClassifier(max_depth=8, max_features='auto', random_state=854819422), DecisionTreeClassifier(max_depth=8, max_features='auto', random_state=916801632), DecisionTreeClassifier(max_depth=8, max_features='auto', random_state=109089715), DecisionTreeClassifier(max_depth=8, max_features='auto',\n",
            "                       random_state=1478495175), DecisionTreeClassifier(max_depth=8, max_features='auto',\n",
            "                       random_state=1553863599), DecisionTreeClassifier(max_depth=8, max_features='auto', random_state=189988640), DecisionTreeClassifier(max_depth=8, max_features='auto',\n",
            "                       random_state=1355676849), DecisionTreeClassifier(max_depth=8, max_features='auto',\n",
            "                       random_state=1196405539), DecisionTreeClassifier(max_depth=8, max_features='auto', random_state=169070148), DecisionTreeClassifier(max_depth=8, max_features='auto',\n",
            "                       random_state=1099796821), DecisionTreeClassifier(max_depth=8, max_features='auto',\n",
            "                       random_state=1619129701), DecisionTreeClassifier(max_depth=8, max_features='auto', random_state=46127288), DecisionTreeClassifier(max_depth=8, max_features='auto',\n",
            "                       random_state=1763286516), DecisionTreeClassifier(max_depth=8, max_features='auto', random_state=253054914), DecisionTreeClassifier(max_depth=8, max_features='auto',\n",
            "                       random_state=1606890374), DecisionTreeClassifier(max_depth=8, max_features='auto',\n",
            "                       random_state=1711796607), DecisionTreeClassifier(max_depth=8, max_features='auto',\n",
            "                       random_state=1530681343), DecisionTreeClassifier(max_depth=8, max_features='auto',\n",
            "                       random_state=1153586940), DecisionTreeClassifier(max_depth=8, max_features='auto',\n",
            "                       random_state=1083209152), DecisionTreeClassifier(max_depth=8, max_features='auto',\n",
            "                       random_state=1333605809), DecisionTreeClassifier(max_depth=8, max_features='auto', random_state=869296925), DecisionTreeClassifier(max_depth=8, max_features='auto',\n",
            "                       random_state=1662288038), DecisionTreeClassifier(max_depth=8, max_features='auto',\n",
            "                       random_state=1569659848), DecisionTreeClassifier(max_depth=8, max_features='auto',\n",
            "                       random_state=1349449951), DecisionTreeClassifier(max_depth=8, max_features='auto',\n",
            "                       random_state=2012973625), DecisionTreeClassifier(max_depth=8, max_features='auto',\n",
            "                       random_state=1585249472), DecisionTreeClassifier(max_depth=8, max_features='auto',\n",
            "                       random_state=2005766494), DecisionTreeClassifier(max_depth=8, max_features='auto', random_state=385655252), DecisionTreeClassifier(max_depth=8, max_features='auto', random_state=845695009), DecisionTreeClassifier(max_depth=8, max_features='auto',\n",
            "                       random_state=1435693673), DecisionTreeClassifier(max_depth=8, max_features='auto',\n",
            "                       random_state=1885955714), DecisionTreeClassifier(max_depth=8, max_features='auto', random_state=419539945), DecisionTreeClassifier(max_depth=8, max_features='auto',\n",
            "                       random_state=1699560216), DecisionTreeClassifier(max_depth=8, max_features='auto', random_state=790828334), DecisionTreeClassifier(max_depth=8, max_features='auto',\n",
            "                       random_state=1341439626), DecisionTreeClassifier(max_depth=8, max_features='auto',\n",
            "                       random_state=1287684297), DecisionTreeClassifier(max_depth=8, max_features='auto', random_state=150474385), DecisionTreeClassifier(max_depth=8, max_features='auto', random_state=872242882), DecisionTreeClassifier(max_depth=8, max_features='auto',\n",
            "                       random_state=1995973198), DecisionTreeClassifier(max_depth=8, max_features='auto',\n",
            "                       random_state=1170575821), DecisionTreeClassifier(max_depth=8, max_features='auto',\n",
            "                       random_state=1247331316), DecisionTreeClassifier(max_depth=8, max_features='auto', random_state=298216884), DecisionTreeClassifier(max_depth=8, max_features='auto',\n",
            "                       random_state=1909562070), DecisionTreeClassifier(max_depth=8, max_features='auto', random_state=725044518), DecisionTreeClassifier(max_depth=8, max_features='auto', random_state=670492501), DecisionTreeClassifier(max_depth=8, max_features='auto',\n",
            "                       random_state=1719957490), DecisionTreeClassifier(max_depth=8, max_features='auto',\n",
            "                       random_state=1287738652), DecisionTreeClassifier(max_depth=8, max_features='auto',\n",
            "                       random_state=1314647435), DecisionTreeClassifier(max_depth=8, max_features='auto',\n",
            "                       random_state=2061348730), DecisionTreeClassifier(max_depth=8, max_features='auto', random_state=741025797), DecisionTreeClassifier(max_depth=8, max_features='auto', random_state=416515365), DecisionTreeClassifier(max_depth=8, max_features='auto', random_state=855103482), DecisionTreeClassifier(max_depth=8, max_features='auto',\n",
            "                       random_state=1756623358), DecisionTreeClassifier(max_depth=8, max_features='auto',\n",
            "                       random_state=1707399907), DecisionTreeClassifier(max_depth=8, max_features='auto', random_state=702324224), DecisionTreeClassifier(max_depth=8, max_features='auto', random_state=894159151), DecisionTreeClassifier(max_depth=8, max_features='auto',\n",
            "                       random_state=1112190006), DecisionTreeClassifier(max_depth=8, max_features='auto', random_state=241585841), DecisionTreeClassifier(max_depth=8, max_features='auto', random_state=111824362), DecisionTreeClassifier(max_depth=8, max_features='auto', random_state=934904431), DecisionTreeClassifier(max_depth=8, max_features='auto', random_state=241337896), DecisionTreeClassifier(max_depth=8, max_features='auto',\n",
            "                       random_state=2142040043), DecisionTreeClassifier(max_depth=8, max_features='auto', random_state=110236114), DecisionTreeClassifier(max_depth=8, max_features='auto', random_state=553201312), DecisionTreeClassifier(max_depth=8, max_features='auto',\n",
            "                       random_state=1339075966), DecisionTreeClassifier(max_depth=8, max_features='auto', random_state=757982011), DecisionTreeClassifier(max_depth=8, max_features='auto',\n",
            "                       random_state=1009062848), DecisionTreeClassifier(max_depth=8, max_features='auto', random_state=807996517), DecisionTreeClassifier(max_depth=8, max_features='auto',\n",
            "                       random_state=1977153113), DecisionTreeClassifier(max_depth=8, max_features='auto', random_state=816381465), DecisionTreeClassifier(max_depth=8, max_features='auto',\n",
            "                       random_state=1013481615), DecisionTreeClassifier(max_depth=8, max_features='auto',\n",
            "                       random_state=1548472184), DecisionTreeClassifier(max_depth=8, max_features='auto', random_state=483641241), DecisionTreeClassifier(max_depth=8, max_features='auto',\n",
            "                       random_state=1236066519), DecisionTreeClassifier(max_depth=8, max_features='auto', random_state=142588864), DecisionTreeClassifier(max_depth=8, max_features='auto', random_state=746661251), DecisionTreeClassifier(max_depth=8, max_features='auto', random_state=25517166), DecisionTreeClassifier(max_depth=8, max_features='auto',\n",
            "                       random_state=1458127239), DecisionTreeClassifier(max_depth=8, max_features='auto', random_state=358798663), DecisionTreeClassifier(max_depth=8, max_features='auto',\n",
            "                       random_state=1892068344), DecisionTreeClassifier(max_depth=8, max_features='auto', random_state=744176696), DecisionTreeClassifier(max_depth=8, max_features='auto',\n",
            "                       random_state=1809982754), DecisionTreeClassifier(max_depth=8, max_features='auto', random_state=465303642), DecisionTreeClassifier(max_depth=8, max_features='auto',\n",
            "                       random_state=1255672238), DecisionTreeClassifier(max_depth=8, max_features='auto', random_state=284044916), DecisionTreeClassifier(max_depth=8, max_features='auto',\n",
            "                       random_state=2074565900), DecisionTreeClassifier(max_depth=8, max_features='auto', random_state=796001877), DecisionTreeClassifier(max_depth=8, max_features='auto', random_state=171317871), DecisionTreeClassifier(max_depth=8, max_features='auto',\n",
            "                       random_state=1594206599), DecisionTreeClassifier(max_depth=8, max_features='auto',\n",
            "                       random_state=1198999332), DecisionTreeClassifier(max_depth=8, max_features='auto', random_state=62081728), DecisionTreeClassifier(max_depth=8, max_features='auto',\n",
            "                       random_state=2124510612), DecisionTreeClassifier(max_depth=8, max_features='auto', random_state=941212360), DecisionTreeClassifier(max_depth=8, max_features='auto',\n",
            "                       random_state=1303722178), DecisionTreeClassifier(max_depth=8, max_features='auto', random_state=596129324), DecisionTreeClassifier(max_depth=8, max_features='auto', random_state=252509801), DecisionTreeClassifier(max_depth=8, max_features='auto',\n",
            "                       random_state=2139251944), DecisionTreeClassifier(max_depth=8, max_features='auto',\n",
            "                       random_state=1033830616), DecisionTreeClassifier(max_depth=8, max_features='auto',\n",
            "                       random_state=1402013156), DecisionTreeClassifier(max_depth=8, max_features='auto', random_state=24421890), DecisionTreeClassifier(max_depth=8, max_features='auto', random_state=18989226), DecisionTreeClassifier(max_depth=8, max_features='auto', random_state=162305372), DecisionTreeClassifier(max_depth=8, max_features='auto', random_state=104744379), DecisionTreeClassifier(max_depth=8, max_features='auto',\n",
            "                       random_state=1061891281), DecisionTreeClassifier(max_depth=8, max_features='auto',\n",
            "                       random_state=1813910399), DecisionTreeClassifier(max_depth=8, max_features='auto', random_state=570626623), DecisionTreeClassifier(max_depth=8, max_features='auto',\n",
            "                       random_state=1126606128), DecisionTreeClassifier(max_depth=8, max_features='auto',\n",
            "                       random_state=1007711479), DecisionTreeClassifier(max_depth=8, max_features='auto',\n",
            "                       random_state=1899154152), DecisionTreeClassifier(max_depth=8, max_features='auto', random_state=317584447), DecisionTreeClassifier(max_depth=8, max_features='auto',\n",
            "                       random_state=1019193291), DecisionTreeClassifier(max_depth=8, max_features='auto', random_state=56392578), DecisionTreeClassifier(max_depth=8, max_features='auto', random_state=103746072), DecisionTreeClassifier(max_depth=8, max_features='auto',\n",
            "                       random_state=1313034971), DecisionTreeClassifier(max_depth=8, max_features='auto', random_state=671054816), DecisionTreeClassifier(max_depth=8, max_features='auto', random_state=643568987), DecisionTreeClassifier(max_depth=8, max_features='auto',\n",
            "                       random_state=1527557231), DecisionTreeClassifier(max_depth=8, max_features='auto',\n",
            "                       random_state=1152981947), DecisionTreeClassifier(max_depth=8, max_features='auto',\n",
            "                       random_state=1549818981), DecisionTreeClassifier(max_depth=8, max_features='auto', random_state=580978955), DecisionTreeClassifier(max_depth=8, max_features='auto',\n",
            "                       random_state=1289439103), DecisionTreeClassifier(max_depth=8, max_features='auto', random_state=247079486), DecisionTreeClassifier(max_depth=8, max_features='auto',\n",
            "                       random_state=2026744620), DecisionTreeClassifier(max_depth=8, max_features='auto',\n",
            "                       random_state=2016513253), DecisionTreeClassifier(max_depth=8, max_features='auto', random_state=550518906), DecisionTreeClassifier(max_depth=8, max_features='auto',\n",
            "                       random_state=1273932860), DecisionTreeClassifier(max_depth=8, max_features='auto',\n",
            "                       random_state=1377223967), DecisionTreeClassifier(max_depth=8, max_features='auto',\n",
            "                       random_state=1838969372), DecisionTreeClassifier(max_depth=8, max_features='auto',\n",
            "                       random_state=2085878180), DecisionTreeClassifier(max_depth=8, max_features='auto',\n",
            "                       random_state=1666830078), DecisionTreeClassifier(max_depth=8, max_features='auto',\n",
            "                       random_state=1931283611), DecisionTreeClassifier(max_depth=8, max_features='auto',\n",
            "                       random_state=1071631788), DecisionTreeClassifier(max_depth=8, max_features='auto',\n",
            "                       random_state=1709444818), DecisionTreeClassifier(max_depth=8, max_features='auto', random_state=361066830), DecisionTreeClassifier(max_depth=8, max_features='auto', random_state=143081517), DecisionTreeClassifier(max_depth=8, max_features='auto',\n",
            "                       random_state=1127235458), DecisionTreeClassifier(max_depth=8, max_features='auto',\n",
            "                       random_state=1284166538), DecisionTreeClassifier(max_depth=8, max_features='auto', random_state=246909066), DecisionTreeClassifier(max_depth=8, max_features='auto', random_state=663285566), DecisionTreeClassifier(max_depth=8, max_features='auto',\n",
            "                       random_state=1531883466), DecisionTreeClassifier(max_depth=8, max_features='auto', random_state=485992011), DecisionTreeClassifier(max_depth=8, max_features='auto',\n",
            "                       random_state=1289447482), DecisionTreeClassifier(max_depth=8, max_features='auto',\n",
            "                       random_state=1934464323), DecisionTreeClassifier(max_depth=8, max_features='auto',\n",
            "                       random_state=1588168266), DecisionTreeClassifier(max_depth=8, max_features='auto',\n",
            "                       random_state=2065955954), DecisionTreeClassifier(max_depth=8, max_features='auto', random_state=749755141), DecisionTreeClassifier(max_depth=8, max_features='auto',\n",
            "                       random_state=1166322833), DecisionTreeClassifier(max_depth=8, max_features='auto',\n",
            "                       random_state=2005654305), DecisionTreeClassifier(max_depth=8, max_features='auto',\n",
            "                       random_state=2013506858), DecisionTreeClassifier(max_depth=8, max_features='auto', random_state=168703409), DecisionTreeClassifier(max_depth=8, max_features='auto',\n",
            "                       random_state=1101887201), DecisionTreeClassifier(max_depth=8, max_features='auto', random_state=504429974), DecisionTreeClassifier(max_depth=8, max_features='auto',\n",
            "                       random_state=1278732822), DecisionTreeClassifier(max_depth=8, max_features='auto',\n",
            "                       random_state=2060583063), DecisionTreeClassifier(max_depth=8, max_features='auto',\n",
            "                       random_state=1574530738), DecisionTreeClassifier(max_depth=8, max_features='auto',\n",
            "                       random_state=1436084954), DecisionTreeClassifier(max_depth=8, max_features='auto', random_state=419401976), DecisionTreeClassifier(max_depth=8, max_features='auto', random_state=124259624), DecisionTreeClassifier(max_depth=8, max_features='auto', random_state=651288927), DecisionTreeClassifier(max_depth=8, max_features='auto',\n",
            "                       random_state=1077409587), DecisionTreeClassifier(max_depth=8, max_features='auto', random_state=749465855), DecisionTreeClassifier(max_depth=8, max_features='auto',\n",
            "                       random_state=1662878239), DecisionTreeClassifier(max_depth=8, max_features='auto',\n",
            "                       random_state=2139667025), DecisionTreeClassifier(max_depth=8, max_features='auto', random_state=615383779), DecisionTreeClassifier(max_depth=8, max_features='auto',\n",
            "                       random_state=1870522804), DecisionTreeClassifier(max_depth=8, max_features='auto',\n",
            "                       random_state=2010403426), DecisionTreeClassifier(max_depth=8, max_features='auto', random_state=952227096), DecisionTreeClassifier(max_depth=8, max_features='auto', random_state=269691207), DecisionTreeClassifier(max_depth=8, max_features='auto',\n",
            "                       random_state=1640177037), DecisionTreeClassifier(max_depth=8, max_features='auto',\n",
            "                       random_state=1462495629), DecisionTreeClassifier(max_depth=8, max_features='auto', random_state=439853178), DecisionTreeClassifier(max_depth=8, max_features='auto',\n",
            "                       random_state=1683194012), DecisionTreeClassifier(max_depth=8, max_features='auto', random_state=900378431), DecisionTreeClassifier(max_depth=8, max_features='auto', random_state=709488045), DecisionTreeClassifier(max_depth=8, max_features='auto', random_state=219603803), DecisionTreeClassifier(max_depth=8, max_features='auto',\n",
            "                       random_state=2035238316), DecisionTreeClassifier(max_depth=8, max_features='auto', random_state=326817919), DecisionTreeClassifier(max_depth=8, max_features='auto',\n",
            "                       random_state=1538432233), DecisionTreeClassifier(max_depth=8, max_features='auto',\n",
            "                       random_state=1937750849), DecisionTreeClassifier(max_depth=8, max_features='auto', random_state=567919274), DecisionTreeClassifier(max_depth=8, max_features='auto',\n",
            "                       random_state=1252896522), DecisionTreeClassifier(max_depth=8, max_features='auto',\n",
            "                       random_state=1313468967), DecisionTreeClassifier(max_depth=8, max_features='auto',\n",
            "                       random_state=1798409358), DecisionTreeClassifier(max_depth=8, max_features='auto', random_state=151863178), DecisionTreeClassifier(max_depth=8, max_features='auto', random_state=432538118), DecisionTreeClassifier(max_depth=8, max_features='auto',\n",
            "                       random_state=1016690284), DecisionTreeClassifier(max_depth=8, max_features='auto',\n",
            "                       random_state=1921268853), DecisionTreeClassifier(max_depth=8, max_features='auto',\n",
            "                       random_state=1422474562), DecisionTreeClassifier(max_depth=8, max_features='auto',\n",
            "                       random_state=1712218945), DecisionTreeClassifier(max_depth=8, max_features='auto',\n",
            "                       random_state=1122756497), DecisionTreeClassifier(max_depth=8, max_features='auto',\n",
            "                       random_state=1760058993), DecisionTreeClassifier(max_depth=8, max_features='auto',\n",
            "                       random_state=1113658487), DecisionTreeClassifier(max_depth=8, max_features='auto', random_state=677740172), DecisionTreeClassifier(max_depth=8, max_features='auto',\n",
            "                       random_state=1538873869), DecisionTreeClassifier(max_depth=8, max_features='auto', random_state=312376545), DecisionTreeClassifier(max_depth=8, max_features='auto',\n",
            "                       random_state=1440142690), DecisionTreeClassifier(max_depth=8, max_features='auto', random_state=349310998), DecisionTreeClassifier(max_depth=8, max_features='auto',\n",
            "                       random_state=1695804320), DecisionTreeClassifier(max_depth=8, max_features='auto',\n",
            "                       random_state=1502943807), DecisionTreeClassifier(max_depth=8, max_features='auto',\n",
            "                       random_state=1722476310), DecisionTreeClassifier(max_depth=8, max_features='auto',\n",
            "                       random_state=1526040941), DecisionTreeClassifier(max_depth=8, max_features='auto', random_state=848480251), DecisionTreeClassifier(max_depth=8, max_features='auto',\n",
            "                       random_state=1136193302), DecisionTreeClassifier(max_depth=8, max_features='auto',\n",
            "                       random_state=1907495589), DecisionTreeClassifier(max_depth=8, max_features='auto', random_state=249954750), DecisionTreeClassifier(max_depth=8, max_features='auto', random_state=928184370), DecisionTreeClassifier(max_depth=8, max_features='auto',\n",
            "                       random_state=1826337341), DecisionTreeClassifier(max_depth=8, max_features='auto',\n",
            "                       random_state=1594352494), DecisionTreeClassifier(max_depth=8, max_features='auto',\n",
            "                       random_state=1930894064), DecisionTreeClassifier(max_depth=8, max_features='auto',\n",
            "                       random_state=1633531287), DecisionTreeClassifier(max_depth=8, max_features='auto',\n",
            "                       random_state=1360135707), DecisionTreeClassifier(max_depth=8, max_features='auto',\n",
            "                       random_state=1380347390), DecisionTreeClassifier(max_depth=8, max_features='auto',\n",
            "                       random_state=1131375433), DecisionTreeClassifier(max_depth=8, max_features='auto', random_state=809494169), DecisionTreeClassifier(max_depth=8, max_features='auto', random_state=81645144), DecisionTreeClassifier(max_depth=8, max_features='auto',\n",
            "                       random_state=1403491479), DecisionTreeClassifier(max_depth=8, max_features='auto', random_state=87941740), DecisionTreeClassifier(max_depth=8, max_features='auto', random_state=816033808), DecisionTreeClassifier(max_depth=8, max_features='auto', random_state=354825014), DecisionTreeClassifier(max_depth=8, max_features='auto',\n",
            "                       random_state=1545477399), DecisionTreeClassifier(max_depth=8, max_features='auto',\n",
            "                       random_state=1434956612), DecisionTreeClassifier(max_depth=8, max_features='auto',\n",
            "                       random_state=1987467167), DecisionTreeClassifier(max_depth=8, max_features='auto', random_state=929338588), DecisionTreeClassifier(max_depth=8, max_features='auto', random_state=484621455), DecisionTreeClassifier(max_depth=8, max_features='auto',\n",
            "                       random_state=1381023943), DecisionTreeClassifier(max_depth=8, max_features='auto',\n",
            "                       random_state=1086415804), DecisionTreeClassifier(max_depth=8, max_features='auto', random_state=232717882), DecisionTreeClassifier(max_depth=8, max_features='auto', random_state=947802461), DecisionTreeClassifier(max_depth=8, max_features='auto', random_state=82770056), DecisionTreeClassifier(max_depth=8, max_features='auto', random_state=57905567), DecisionTreeClassifier(max_depth=8, max_features='auto',\n",
            "                       random_state=1963665368), DecisionTreeClassifier(max_depth=8, max_features='auto', random_state=113750410), DecisionTreeClassifier(max_depth=8, max_features='auto',\n",
            "                       random_state=1498211172), DecisionTreeClassifier(max_depth=8, max_features='auto',\n",
            "                       random_state=1067906378), DecisionTreeClassifier(max_depth=8, max_features='auto',\n",
            "                       random_state=1482068561), DecisionTreeClassifier(max_depth=8, max_features='auto',\n",
            "                       random_state=1064749762), DecisionTreeClassifier(max_depth=8, max_features='auto', random_state=385940775), DecisionTreeClassifier(max_depth=8, max_features='auto',\n",
            "                       random_state=1702110691), DecisionTreeClassifier(max_depth=8, max_features='auto',\n",
            "                       random_state=1195231384), DecisionTreeClassifier(max_depth=8, max_features='auto', random_state=330858383), DecisionTreeClassifier(max_depth=8, max_features='auto',\n",
            "                       random_state=1243203619), DecisionTreeClassifier(max_depth=8, max_features='auto', random_state=506419669), DecisionTreeClassifier(max_depth=8, max_features='auto',\n",
            "                       random_state=1418139696), DecisionTreeClassifier(max_depth=8, max_features='auto', random_state=988102242), DecisionTreeClassifier(max_depth=8, max_features='auto', random_state=297327641), DecisionTreeClassifier(max_depth=8, max_features='auto',\n",
            "                       random_state=2063015533), DecisionTreeClassifier(max_depth=8, max_features='auto', random_state=826384860), DecisionTreeClassifier(max_depth=8, max_features='auto',\n",
            "                       random_state=1838338587), DecisionTreeClassifier(max_depth=8, max_features='auto', random_state=701777745), DecisionTreeClassifier(max_depth=8, max_features='auto',\n",
            "                       random_state=1245336983), DecisionTreeClassifier(max_depth=8, max_features='auto',\n",
            "                       random_state=1311871998), DecisionTreeClassifier(max_depth=8, max_features='auto',\n",
            "                       random_state=1048832517), DecisionTreeClassifier(max_depth=8, max_features='auto', random_state=714065404), DecisionTreeClassifier(max_depth=8, max_features='auto', random_state=207445548), DecisionTreeClassifier(max_depth=8, max_features='auto', random_state=298922413), DecisionTreeClassifier(max_depth=8, max_features='auto', random_state=107671829), DecisionTreeClassifier(max_depth=8, max_features='auto', random_state=182503430), DecisionTreeClassifier(max_depth=8, max_features='auto', random_state=569834155), DecisionTreeClassifier(max_depth=8, max_features='auto', random_state=732716695), DecisionTreeClassifier(max_depth=8, max_features='auto',\n",
            "                       random_state=1037286989), DecisionTreeClassifier(max_depth=8, max_features='auto',\n",
            "                       random_state=1209149175), DecisionTreeClassifier(max_depth=8, max_features='auto', random_state=887505307), DecisionTreeClassifier(max_depth=8, max_features='auto', random_state=652804373), DecisionTreeClassifier(max_depth=8, max_features='auto', random_state=901264141), DecisionTreeClassifier(max_depth=8, max_features='auto', random_state=551696665), DecisionTreeClassifier(max_depth=8, max_features='auto', random_state=302121490), DecisionTreeClassifier(max_depth=8, max_features='auto',\n",
            "                       random_state=1861828113), DecisionTreeClassifier(max_depth=8, max_features='auto', random_state=334700083), DecisionTreeClassifier(max_depth=8, max_features='auto',\n",
            "                       random_state=1229663856), DecisionTreeClassifier(max_depth=8, max_features='auto',\n",
            "                       random_state=1691054813), DecisionTreeClassifier(max_depth=8, max_features='auto', random_state=682663262), DecisionTreeClassifier(max_depth=8, max_features='auto',\n",
            "                       random_state=1053815748), DecisionTreeClassifier(max_depth=8, max_features='auto', random_state=732275638)]\n"
          ]
        }
      ]
    },
    {
      "cell_type": "code",
      "source": [
        "print_results(calculate_metrics(y_test.values, y_r), 'RF Ensemble')\n",
        "cm = confusion_matrix(y_test, y_r)\n",
        "plot_confusion_matrix(cm, classes)"
      ],
      "metadata": {
        "id": "X3X-U1qDRsgi",
        "outputId": "c708894d-21cc-4814-9308-c886f4229df0",
        "colab": {
          "base_uri": "https://localhost:8080/",
          "height": 471
        }
      },
      "execution_count": null,
      "outputs": [
        {
          "output_type": "stream",
          "name": "stdout",
          "text": [
            "Results for RF Ensemble\n",
            "----\n",
            "  Accuracy:  0.7674418604651163\n",
            "  Precision: 0.7825482011528523\n",
            "  Recall:    0.7674418604651163\n",
            "  F1 score:  0.757890365448505\n",
            "  Mislabeled 10 out of 43\n",
            "\n",
            "\n"
          ]
        },
        {
          "output_type": "execute_result",
          "data": {
            "text/plain": [
              "<matplotlib.axes._subplots.AxesSubplot at 0x7f8cb0806c10>"
            ]
          },
          "metadata": {},
          "execution_count": 63
        },
        {
          "output_type": "display_data",
          "data": {
            "text/plain": [
              "<Figure size 432x288 with 2 Axes>"
            ],
            "image/png": "[encoded data removed]"
          },
          "metadata": {
            "needs_background": "light"
          }
        }
      ]
    },
    {
      "cell_type": "code",
      "source": [
        "\n",
        "randomforest_results =cross_validate(rfclf,  X, y, cv=8, scoring='f1_weighted')\n",
        "randomforest_results['test_score']"
      ],
      "metadata": {
        "id": "QUJgr1McRsoB",
        "outputId": "869112ae-ca5e-42c5-9448-78b22bffce97",
        "colab": {
          "base_uri": "https://localhost:8080/"
        }
      },
      "execution_count": null,
      "outputs": [
        {
          "output_type": "execute_result",
          "data": {
            "text/plain": [
              "array([0.67480029, 0.84701191, 0.63274854, 0.67941935, 0.88916736,\n",
              "       0.73470819, 0.72789666, 0.73870574])"
            ]
          },
          "metadata": {},
          "execution_count": 64
        }
      ]
    },
    {
      "cell_type": "code",
      "source": [
        "np.average(randomforest_results['test_score'])"
      ],
      "metadata": {
        "colab": {
          "base_uri": "https://localhost:8080/"
        },
        "id": "darufCzIMAwQ",
        "outputId": "991b71d3-fe23-43ae-e298-0edb36d5af2e"
      },
      "execution_count": null,
      "outputs": [
        {
          "output_type": "execute_result",
          "data": {
            "text/plain": [
              "0.7405572558221805"
            ]
          },
          "metadata": {},
          "execution_count": 66
        }
      ]
    },
    {
      "cell_type": "markdown",
      "source": [
        "Zad.2.\n",
        "Na zbiorze glass spróbuj osiagnać lepszy efekt niż f1_score (cross_validation)= 74% wykonujac randomforest i bagging_classifier (bagging musi bazowac albo na regresji logistycznej albo na svm), dobór parametrów i algorytmu (w przypadku baggingu) dokonaj z pomocą grid_search_cv. Podaj który algorytm osiągnał lepszy rezultat"
      ],
      "metadata": {
        "id": "WXFy37uTMrwx"
      }
    },
    {
      "cell_type": "code",
      "source": [
        "new_rf_model = RandomForestClassifier()"
      ],
      "metadata": {
        "id": "WSsu7AkKNczM"
      },
      "execution_count": null,
      "outputs": []
    },
    {
      "cell_type": "code",
      "source": [
        "from sklearn.model_selection import GridSearchCV\n",
        "parameters = {'n_estimators':[10, 50, 100, 200, 300, 400, 500],\n",
        "              'max_depth' : [6,8, 10, 25, 50],\n",
        "              'criterion': ['gini', 'entropy']}\n",
        "searcher = GridSearchCV(new_rf_model, parameters)\n",
        "searcher.fit(X_train, y_train)\n",
        "pred = searcher.predict(X_test)\n",
        "pred_train = searcher.predict(X_train)\n",
        "#accuracy_test\n",
        "print(accuracy_score(y_test, pred))\n",
        "#Accuracy_train\n",
        "print(accuracy_score(y_train, pred_train))"
      ],
      "metadata": {
        "colab": {
          "base_uri": "https://localhost:8080/"
        },
        "id": "QqPj3-fqNc-c",
        "outputId": "a6e69c4d-e925-40e3-a4ce-96ad873bd649"
      },
      "execution_count": null,
      "outputs": [
        {
          "output_type": "stream",
          "name": "stdout",
          "text": [
            "0.7674418604651163\n",
            "1.0\n"
          ]
        }
      ]
    },
    {
      "cell_type": "code",
      "source": [
        "print(\"Best CV params\", searcher.best_params_)"
      ],
      "metadata": {
        "colab": {
          "base_uri": "https://localhost:8080/"
        },
        "id": "fj9SEQZ4OK0R",
        "outputId": "732cf076-5fb4-4588-efad-742015b98f5c"
      },
      "execution_count": null,
      "outputs": [
        {
          "output_type": "stream",
          "name": "stdout",
          "text": [
            "Best CV params {'max_depth': 8, 'n_estimators': 500}\n"
          ]
        }
      ]
    },
    {
      "cell_type": "code",
      "source": [
        " from sklearn.model_selection import cross_validate\n",
        "\n",
        "cv_results = cross_validate(searcher, X, y, cv=5, scoring = 'f1_weighted')\n",
        "print(cv_results['test_score'])\n",
        "np.average(cv_results['test_score'])"
      ],
      "metadata": {
        "colab": {
          "base_uri": "https://localhost:8080/"
        },
        "id": "wCzsEgMdOS4J",
        "outputId": "b4647bda-e92b-473a-f267-ae6db50cc760"
      },
      "execution_count": null,
      "outputs": [
        {
          "output_type": "stream",
          "name": "stdout",
          "text": [
            "[0.7071987  0.66456257 0.62084839 0.64392493 0.74583392]\n"
          ]
        },
        {
          "output_type": "execute_result",
          "data": {
            "text/plain": [
              "0.6764737017380216"
            ]
          },
          "metadata": {},
          "execution_count": 70
        }
      ]
    },
    {
      "cell_type": "code",
      "source": [
        "from sklearn.ensemble import BaggingClassifier\n",
        "from sklearn.ensemble import RandomForestClassifier\n",
        "\n",
        "\n",
        "bc_params = {\"base_estimator__kernel\": ['rbf','poly', 'sigmoid', 'linear'],\n",
        "          \"base_estimator__C\": [10,100,1000,0.1, 0.01, 0.000001],\n",
        "          \"base_estimator__gamma\": [0.01, 10, 100],\n",
        "          'max_features': [0.5, 0.7, 1.0],\n",
        "          'max_samples': [0.5, 0.7, 1.0],\n",
        "          'n_estimators': [2, 5, 10, 20, 50, 100],\n",
        "}\n",
        "bc_searcher = GridSearchCV(BaggingClassifier(base_estimator=SVC()), bc_params)\n",
        "bc_searcher.fit(X_train, y_train)\n",
        "pred = bc_searcher.predict(X_test)\n",
        "pred_train = bc_searcher.predict(X_train)\n",
        "#accuracy_test\n",
        "print(accuracy_score(y_test, pred))\n",
        "#Accuracy_train\n",
        "print(accuracy_score(y_train, pred_train))"
      ],
      "metadata": {
        "id": "ikGTV-ZsOTCt"
      },
      "execution_count": null,
      "outputs": []
    },
    {
      "cell_type": "code",
      "source": [
        "print(\"Best CV params\", bc_searcher.best_params_)"
      ],
      "metadata": {
        "colab": {
          "base_uri": "https://localhost:8080/",
          "height": 166
        },
        "id": "JJSprkx_WMCs",
        "outputId": "e445d69d-eb76-4665-cc23-49e45f008e57"
      },
      "execution_count": null,
      "outputs": [
        {
          "output_type": "error",
          "ename": "AttributeError",
          "evalue": "ignored",
          "traceback": [
            "\u001b[0;31m---------------------------------------------------------------------------\u001b[0m",
            "\u001b[0;31mAttributeError\u001b[0m                            Traceback (most recent call last)",
            "\u001b[0;32m<ipython-input-75-158dd7019b11>\u001b[0m in \u001b[0;36m<module>\u001b[0;34m()\u001b[0m\n\u001b[0;32m----> 1\u001b[0;31m \u001b[0mprint\u001b[0m\u001b[0;34m(\u001b[0m\u001b[0;34m\"Best CV params\"\u001b[0m\u001b[0;34m,\u001b[0m \u001b[0mbc_searcher\u001b[0m\u001b[0;34m.\u001b[0m\u001b[0mbest_params_\u001b[0m\u001b[0;34m)\u001b[0m\u001b[0;34m\u001b[0m\u001b[0;34m\u001b[0m\u001b[0m\n\u001b[0m",
            "\u001b[0;31mAttributeError\u001b[0m: 'GridSearchCV' object has no attribute 'best_params_'"
          ]
        }
      ]
    }
  ]
}